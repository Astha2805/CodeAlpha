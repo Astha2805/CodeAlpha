{
 "cells": [
  {
   "cell_type": "code",
   "execution_count": 7,
   "id": "601f7c82-3a9f-487f-860c-812b6d62cb10",
   "metadata": {},
   "outputs": [
    {
     "name": "stdout",
     "output_type": "stream",
     "text": [
      "**********\n",
      "   \n",
      "   \n",
      "   \n",
      "**********\n",
      "_ _ _ _ _ _ _ _\n"
     ]
    },
    {
     "name": "stdin",
     "output_type": "stream",
     "text": [
      "Enter a letter:  k\n"
     ]
    },
    {
     "name": "stdout",
     "output_type": "stream",
     "text": [
      "**********\n",
      " o \n",
      "   \n",
      "   \n",
      "**********\n",
      "_ _ _ _ _ _ _ _\n"
     ]
    },
    {
     "name": "stdin",
     "output_type": "stream",
     "text": [
      "Enter a letter:  l\n"
     ]
    },
    {
     "name": "stdout",
     "output_type": "stream",
     "text": [
      "**********\n",
      " o \n",
      "   \n",
      "   \n",
      "**********\n",
      "_ _ _ _ _ _ l _\n"
     ]
    },
    {
     "name": "stdin",
     "output_type": "stream",
     "text": [
      "Enter a letter:  z\n"
     ]
    },
    {
     "name": "stdout",
     "output_type": "stream",
     "text": [
      "**********\n",
      " o \n",
      " | \n",
      "   \n",
      "**********\n",
      "_ _ _ _ _ _ l _\n"
     ]
    },
    {
     "name": "stdin",
     "output_type": "stream",
     "text": [
      "Enter a letter:  y\n"
     ]
    },
    {
     "name": "stdout",
     "output_type": "stream",
     "text": [
      "**********\n",
      " o \n",
      "/| \n",
      "   \n",
      "**********\n",
      "_ _ _ _ _ _ l _\n"
     ]
    },
    {
     "name": "stdin",
     "output_type": "stream",
     "text": [
      "Enter a letter:  w\n"
     ]
    },
    {
     "name": "stdout",
     "output_type": "stream",
     "text": [
      "**********\n",
      " o \n",
      "/|\\\n",
      "   \n",
      "**********\n",
      "_ _ _ _ _ _ l _\n"
     ]
    },
    {
     "name": "stdin",
     "output_type": "stream",
     "text": [
      "Enter a letter:  x\n"
     ]
    },
    {
     "name": "stdout",
     "output_type": "stream",
     "text": [
      "**********\n",
      " o \n",
      "/|\\\n",
      "/  \n",
      "**********\n",
      "_ _ _ _ _ _ l _\n"
     ]
    },
    {
     "name": "stdin",
     "output_type": "stream",
     "text": [
      "Enter a letter:  h\n"
     ]
    },
    {
     "name": "stdout",
     "output_type": "stream",
     "text": [
      "**********\n",
      " o \n",
      "/|\\\n",
      "/ \\\n",
      "**********\n",
      "v a r i a b l e\n",
      "YOU LOSE!\n"
     ]
    }
   ],
   "source": [
    "import random\n",
    "words = [\"python\", \"programming\", \"hangman\", \"developer\", \"algorithm\", \"function\", \"variable\"]\n",
    "hangman_art ={0: (\"   \",\n",
    "                  \"   \",\n",
    "                  \"   \"),\n",
    "              1: (\" o \",\n",
    "                  \"   \",\n",
    "                  \"   \"),\n",
    "              2: (\" o \",\n",
    "                  \" | \",\n",
    "                  \"   \"),\n",
    "              3: (\" o \",\n",
    "                  \"/| \",\n",
    "                  \"   \"),\n",
    "              4: (\" o \",\n",
    "                  \"/|\\\\\",\n",
    "                  \"   \"),\n",
    "              5: (\" o \",\n",
    "                  \"/|\\\\\",\n",
    "                  \"/  \"),\n",
    "               6: (\" o \",\n",
    "                   \"/|\\\\\",\n",
    "                   \"/ \\\\\")}\n",
    "\n",
    "def display_man(wrong_guesses):\n",
    "    print(\"**********\")\n",
    "    for line in hangman_art[wrong_guesses]:\n",
    "        print(line)\n",
    "    print(\"**********\")\n",
    "\n",
    "def display_hint(hint):\n",
    "    print(\" \".join(hint))\n",
    "\n",
    "def display_answer(answer):  \n",
    "    print(\" \".join(answer))\n",
    "\n",
    "def main():\n",
    "    answer = random.choice(words)\n",
    "    hint = [\"_\"] * len(answer)\n",
    "    wrong_guesses = 0\n",
    "    guessed_letters = set()\n",
    "    is_running = True\n",
    "\n",
    "    while is_running:\n",
    "        display_man(wrong_guesses)\n",
    "        display_hint(hint)\n",
    "        guess = input(\"Enter a letter: \").lower()\n",
    "\n",
    "        if len(guess) != 1 or not guess.isalpha():\n",
    "            print(\"Invalid input\")\n",
    "            continue\n",
    "\n",
    "        if guess in guessed_letters:\n",
    "            print(f\"{guess} is already guessed\")\n",
    "            continue\n",
    "\n",
    "        guessed_letters.add(guess)\n",
    "\n",
    "        if guess in answer:\n",
    "            for i in range(len(answer)):\n",
    "                if answer[i] == guess:\n",
    "                    hint[i] = guess\n",
    "        else:\n",
    "            wrong_guesses += 1\n",
    "        if \"_\" not in hint:\n",
    "            display_man(wrong_guesses)\n",
    "            display_answer(answer)\n",
    "            print(\"YOU WIN!\")\n",
    "            is_running = False\n",
    "        elif wrong_guesses >= len(hangman_art) - 1:\n",
    "            display_man(wrong_guesses)\n",
    "            display_answer(answer)\n",
    "            print(\"YOU LOSE!\")\n",
    "            is_running = False\n",
    "\n",
    "if __name__ == \"__main__\":\n",
    "    main()"
   ]
  },
  {
   "cell_type": "code",
   "execution_count": null,
   "id": "a1c90c23-7b30-4cd5-a7d1-f5484f5f4f44",
   "metadata": {},
   "outputs": [],
   "source": []
  }
 ],
 "metadata": {
  "kernelspec": {
   "display_name": "Python [conda env:base] *",
   "language": "python",
   "name": "conda-base-py"
  },
  "language_info": {
   "codemirror_mode": {
    "name": "ipython",
    "version": 3
   },
   "file_extension": ".py",
   "mimetype": "text/x-python",
   "name": "python",
   "nbconvert_exporter": "python",
   "pygments_lexer": "ipython3",
   "version": "3.12.7"
  }
 },
 "nbformat": 4,
 "nbformat_minor": 5
}
