{
 "cells": [
  {
   "cell_type": "code",
   "execution_count": 3,
   "id": "bb5ca61c-3e10-4fe3-bf6d-e52cb0392284",
   "metadata": {},
   "outputs": [
    {
     "name": "stdout",
     "output_type": "stream",
     "text": [
      "📊 Stock Portfolio Tracker\n",
      "Available stocks: AAPL, TSLA, GOOGL, AMZN\n"
     ]
    },
    {
     "name": "stdin",
     "output_type": "stream",
     "text": [
      "Enter stock symbol (or 'done' to finish):  TSLA\n",
      "Enter number of shares for TSLA:  4\n",
      "Enter stock symbol (or 'done' to finish):  DONE\n"
     ]
    },
    {
     "name": "stdout",
     "output_type": "stream",
     "text": [
      "\n",
      "Your Portfolio Summary:\n",
      "------------------------------\n",
      "TSLA: 4 shares × $250 = $1000\n",
      "------------------------------\n",
      "Total Investment Value = $1000\n"
     ]
    },
    {
     "name": "stdin",
     "output_type": "stream",
     "text": [
      "Do you want to save the result to portfolio.txt? (yes/no):  YES\n"
     ]
    },
    {
     "name": "stdout",
     "output_type": "stream",
     "text": [
      "Results saved to portfolio.txt\n"
     ]
    }
   ],
   "source": [
    "stock_prices = {\"AAPL\": 180, \"TSLA\": 250, \"GOOGL\": 135, \"AMZN\": 140}\n",
    "portfolio = {}\n",
    "total_investment = 0\n",
    "print(\"📊 Stock Portfolio Tracker\")\n",
    "print(\"Available stocks:\", \", \".join(stock_prices.keys()))\n",
    "while True:\n",
    "    stock = input(\"Enter stock symbol (or 'done' to finish): \").upper()\n",
    "    if stock == \"DONE\":\n",
    "        break\n",
    "    elif stock not in stock_prices:\n",
    "        print(\"Stock not found! Try again.\")\n",
    "        continue\n",
    "    try:\n",
    "        quantity = int(input(f\"Enter number of shares for {stock}: \"))\n",
    "    except ValueError:\n",
    "        print(\"Please enter a valid number.\")\n",
    "        continue\n",
    "    portfolio[stock] = portfolio.get(stock, 0) + quantity\n",
    "print(\"\\nYour Portfolio Summary:\")\n",
    "print(\"-\" * 30)\n",
    "for stock, qty in portfolio.items():\n",
    "    price = stock_prices[stock]\n",
    "    investment = price * qty\n",
    "    total_investment += investment\n",
    "    print(f\"{stock}: {qty} shares × ${price} = ${investment}\")\n",
    "print(\"-\" * 30)\n",
    "print(f\"Total Investment Value = ${total_investment}\")\n",
    "save = input(\"Do you want to save the result to portfolio.txt? (yes/no): \").lower()\n",
    "if save == \"yes\":\n",
    "    with open(\"portfolio.txt\", \"w\") as f:\n",
    "        for stock, qty in portfolio.items():\n",
    "            price = stock_prices[stock]\n",
    "            investment = price * qty\n",
    "            f.write(f\"{stock}: {qty} shares × ${price} = ${investment}\\n\")\n",
    "        f.write(f\"\\nTotal Investment Value = ${total_investment}\\n\")\n",
    "    print(\"Results saved to portfolio.txt\")"
   ]
  },
  {
   "cell_type": "code",
   "execution_count": null,
   "id": "a4aeae02-5c40-4b5d-80fb-8f7d66468d58",
   "metadata": {},
   "outputs": [],
   "source": []
  }
 ],
 "metadata": {
  "kernelspec": {
   "display_name": "Python [conda env:base] *",
   "language": "python",
   "name": "conda-base-py"
  },
  "language_info": {
   "codemirror_mode": {
    "name": "ipython",
    "version": 3
   },
   "file_extension": ".py",
   "mimetype": "text/x-python",
   "name": "python",
   "nbconvert_exporter": "python",
   "pygments_lexer": "ipython3",
   "version": "3.12.7"
  }
 },
 "nbformat": 4,
 "nbformat_minor": 5
}
